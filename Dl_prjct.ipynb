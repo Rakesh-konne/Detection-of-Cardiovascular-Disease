{
  "cells": [
    {
      "cell_type": "code",
      "execution_count": null,
      "metadata": {
        "id": "x8T4AB4JC7b9"
      },
      "outputs": [],
      "source": [
        "import os\n",
        "import numpy as np\n",
        "from tensorflow.keras.preprocessing.image import load_img, img_to_array\n",
        "from tensorflow.keras.utils import to_categorical\n",
        "from sklearn.model_selection import train_test_split\n",
        "from tensorflow.keras.preprocessing.image import ImageDataGenerator\n",
        "from tensorflow.keras.models import Sequential\n",
        "from tensorflow.keras.layers import Conv2D, MaxPooling2D, Flatten, Dense, Dropout\n",
        "from tensorflow.keras.callbacks import EarlyStopping, ModelCheckpoint\n",
        "from sklearn.metrics import classification_report, confusion_matrix\n",
        "\n",
        "# Define the base directory\n",
        "base_dir = '/content/drive/MyDrive/content/data'\n",
        "\n",
        "# Function to load images from directory\n",
        "def load_images_from_directory(directory, target_size=(150, 150)):\n",
        "    images = []\n",
        "    labels = []\n",
        "    class_names = sorted(os.listdir(directory))  # Assumes each sub-folder is a class\n",
        "    for class_name in class_names:\n",
        "        class_dir = os.path.join(directory, class_name)\n",
        "        if os.path.isdir(class_dir):\n",
        "            for img_name in os.listdir(class_dir):\n",
        "                img_path = os.path.join(class_dir, img_name)\n",
        "                img = load_img(img_path, target_size=target_size)\n",
        "                img_array = img_to_array(img) / 255.0  # Normalize\n",
        "                images.append(img_array)\n",
        "                labels.append(class_names.index(class_name))\n",
        "    return np.array(images), np.array(labels), class_names\n",
        "\n",
        "# Load data\n",
        "x, y, class_names = load_images_from_directory(base_dir)\n",
        "\n",
        "\n",
        "# Convert labels to categorical\n",
        "y = to_categorical(y, num_classes=len(class_names))\n",
        "\n",
        "# Split the data into training and testing sets (70:30 ratio) with stratification\n",
        "x_train, x_test, y_train, y_test = train_test_split(\n",
        "    x, y,\n",
        "    test_size=0.3,\n",
        "    random_state=42,\n",
        "    stratify=y\n",
        ")\n",
        "\n",
        "\n",
        "\n"
      ]
    },
    {
      "cell_type": "code",
      "execution_count": null,
      "metadata": {
        "id": "GkKt2VjSYJNN"
      },
      "outputs": [],
      "source": []
    },
    {
      "cell_type": "code",
      "execution_count": null,
      "metadata": {
        "colab": {
          "base_uri": "https://localhost:8080/"
        },
        "id": "9AjiLfr4UrMy",
        "outputId": "8cfd7ce3-d487-409c-a0cf-aa524f061f50"
      },
      "outputs": [
        {
          "output_type": "stream",
          "name": "stdout",
          "text": [
            "(279, 150, 150, 3)\n",
            "(279, 4)\n",
            "(649, 150, 150, 3)\n",
            "(649, 4)\n"
          ]
        }
      ],
      "source": [
        "print(x_test.shape)\n",
        "print(y_test.shape)\n",
        "print(x_train.shape)\n",
        "print(y_train.shape)"
      ]
    },
    {
      "cell_type": "code",
      "execution_count": null,
      "metadata": {
        "colab": {
          "base_uri": "https://localhost:8080/"
        },
        "id": "vCJ3X7syWg3_",
        "outputId": "b3b18bab-5709-491d-e8ef-fd550301071f"
      },
      "outputs": [
        {
          "output_type": "stream",
          "name": "stdout",
          "text": [
            "Class distribution in training data: {0: 167, 1: 120, 2: 163, 3: 199}\n",
            "Class distribution in test data: {0: 72, 1: 52, 2: 70, 3: 85}\n"
          ]
        }
      ],
      "source": [
        "unique, counts = np.unique(np.argmax(y_train, axis=1), return_counts=True)\n",
        "class_distribution = dict(zip(unique, counts))\n",
        "print(\"Class distribution in training data:\", class_distribution)\n",
        "\n",
        "unique, counts = np.unique(np.argmax(y_test, axis=1), return_counts=True)\n",
        "class_distribution = dict(zip(unique, counts))\n",
        "print(\"Class distribution in test data:\", class_distribution)"
      ]
    },
    {
      "cell_type": "code",
      "execution_count": null,
      "metadata": {
        "colab": {
          "base_uri": "https://localhost:8080/"
        },
        "id": "c5s-P_gfWw_3",
        "outputId": "c3e89772-1e2c-4b8b-c92b-a3dd558cb622"
      },
      "outputs": [
        {
          "output_type": "stream",
          "name": "stderr",
          "text": [
            "/usr/local/lib/python3.10/dist-packages/keras/src/layers/convolutional/base_conv.py:107: UserWarning: Do not pass an `input_shape`/`input_dim` argument to a layer. When using Sequential models, prefer using an `Input(shape)` object as the first layer in the model instead.\n",
            "  super().__init__(activity_regularizer=activity_regularizer, **kwargs)\n"
          ]
        }
      ],
      "source": [
        "from tensorflow.keras.models import Sequential\n",
        "from tensorflow.keras.layers import Conv2D, MaxPooling2D, Flatten, Dense, Dropout\n",
        "\n",
        "# Define the CNN model\n",
        "model = Sequential([\n",
        "    Conv2D(32, (3, 3), activation='relu', input_shape=(150, 150, 3)),\n",
        "    MaxPooling2D(pool_size=(2, 2)),\n",
        "\n",
        "    Conv2D(64, (3, 3), activation='relu'),\n",
        "    MaxPooling2D(pool_size=(2, 2)),\n",
        "\n",
        "    Conv2D(128, (3, 3), activation='relu'),\n",
        "    MaxPooling2D(pool_size=(2, 2)),\n",
        "\n",
        "    Flatten(),\n",
        "    Dense(512, activation='relu'),\n",
        "    Dropout(0.5),\n",
        "    Dense(len(class_names), activation='softmax')\n",
        "])\n",
        "\n",
        "model.compile(optimizer='adam', loss='categorical_crossentropy', metrics=['accuracy'])\n",
        "\n",
        "# Define callbacks\n",
        "early_stopping = EarlyStopping(monitor='val_loss', patience=10, restore_best_weights=True)\n",
        "checkpoint = ModelCheckpoint('best_model.keras', monitor='val_loss', save_best_only=True)\n"
      ]
    },
    {
      "cell_type": "code",
      "execution_count": null,
      "metadata": {
        "colab": {
          "base_uri": "https://localhost:8080/"
        },
        "id": "JWmbm5kHZcpM",
        "outputId": "9dfb9778-0bdd-4f92-dce4-a687f5658a4b"
      },
      "outputs": [
        {
          "output_type": "stream",
          "name": "stdout",
          "text": [
            "Epoch 1/20\n",
            "\u001b[1m41/41\u001b[0m \u001b[32m━━━━━━━━━━━━━━━━━━━━\u001b[0m\u001b[37m\u001b[0m \u001b[1m55s\u001b[0m 1s/step - accuracy: 0.2667 - loss: 1.8390 - val_accuracy: 0.3513 - val_loss: 1.3718\n",
            "Epoch 2/20\n",
            "\u001b[1m41/41\u001b[0m \u001b[32m━━━━━━━━━━━━━━━━━━━━\u001b[0m\u001b[37m\u001b[0m \u001b[1m76s\u001b[0m 1s/step - accuracy: 0.2540 - loss: 1.3885 - val_accuracy: 0.3262 - val_loss: 1.4131\n",
            "Epoch 3/20\n",
            "\u001b[1m41/41\u001b[0m \u001b[32m━━━━━━━━━━━━━━━━━━━━\u001b[0m\u001b[37m\u001b[0m \u001b[1m47s\u001b[0m 1s/step - accuracy: 0.2879 - loss: 1.3998 - val_accuracy: 0.2509 - val_loss: 1.3799\n",
            "Epoch 4/20\n",
            "\u001b[1m41/41\u001b[0m \u001b[32m━━━━━━━━━━━━━━━━━━━━\u001b[0m\u001b[37m\u001b[0m \u001b[1m86s\u001b[0m 1s/step - accuracy: 0.3164 - loss: 1.3767 - val_accuracy: 0.3047 - val_loss: 1.3753\n",
            "Epoch 5/20\n",
            "\u001b[1m41/41\u001b[0m \u001b[32m━━━━━━━━━━━━━━━━━━━━\u001b[0m\u001b[37m\u001b[0m \u001b[1m78s\u001b[0m 1s/step - accuracy: 0.2941 - loss: 1.3774 - val_accuracy: 0.3047 - val_loss: 1.3739\n",
            "Epoch 6/20\n",
            "\u001b[1m41/41\u001b[0m \u001b[32m━━━━━━━━━━━━━━━━━━━━\u001b[0m\u001b[37m\u001b[0m \u001b[1m82s\u001b[0m 1s/step - accuracy: 0.3121 - loss: 1.3703 - val_accuracy: 0.2509 - val_loss: 1.4044\n",
            "Epoch 7/20\n",
            "\u001b[1m41/41\u001b[0m \u001b[32m━━━━━━━━━━━━━━━━━━━━\u001b[0m\u001b[37m\u001b[0m \u001b[1m49s\u001b[0m 1s/step - accuracy: 0.3631 - loss: 1.3271 - val_accuracy: 0.3907 - val_loss: 1.2463\n",
            "Epoch 8/20\n",
            "\u001b[1m41/41\u001b[0m \u001b[32m━━━━━━━━━━━━━━━━━━━━\u001b[0m\u001b[37m\u001b[0m \u001b[1m81s\u001b[0m 1s/step - accuracy: 0.6020 - loss: 1.0274 - val_accuracy: 0.8065 - val_loss: 0.6069\n",
            "Epoch 9/20\n",
            "\u001b[1m41/41\u001b[0m \u001b[32m━━━━━━━━━━━━━━━━━━━━\u001b[0m\u001b[37m\u001b[0m \u001b[1m49s\u001b[0m 1s/step - accuracy: 0.8461 - loss: 0.4259 - val_accuracy: 0.8566 - val_loss: 0.4671\n",
            "Epoch 10/20\n",
            "\u001b[1m41/41\u001b[0m \u001b[32m━━━━━━━━━━━━━━━━━━━━\u001b[0m\u001b[37m\u001b[0m \u001b[1m80s\u001b[0m 1s/step - accuracy: 0.9453 - loss: 0.1971 - val_accuracy: 0.8781 - val_loss: 0.4892\n",
            "Epoch 11/20\n",
            "\u001b[1m41/41\u001b[0m \u001b[32m━━━━━━━━━━━━━━━━━━━━\u001b[0m\u001b[37m\u001b[0m \u001b[1m82s\u001b[0m 1s/step - accuracy: 0.9700 - loss: 0.0794 - val_accuracy: 0.8853 - val_loss: 0.5279\n",
            "Epoch 12/20\n",
            "\u001b[1m41/41\u001b[0m \u001b[32m━━━━━━━━━━━━━━━━━━━━\u001b[0m\u001b[37m\u001b[0m \u001b[1m85s\u001b[0m 1s/step - accuracy: 0.9832 - loss: 0.0488 - val_accuracy: 0.8925 - val_loss: 0.5809\n",
            "Epoch 13/20\n",
            "\u001b[1m41/41\u001b[0m \u001b[32m━━━━━━━━━━━━━━━━━━━━\u001b[0m\u001b[37m\u001b[0m \u001b[1m47s\u001b[0m 1s/step - accuracy: 0.9809 - loss: 0.0574 - val_accuracy: 0.9032 - val_loss: 0.6444\n",
            "Epoch 14/20\n",
            "\u001b[1m41/41\u001b[0m \u001b[32m━━━━━━━━━━━━━━━━━━━━\u001b[0m\u001b[37m\u001b[0m \u001b[1m81s\u001b[0m 1s/step - accuracy: 0.9920 - loss: 0.0246 - val_accuracy: 0.8423 - val_loss: 0.9147\n",
            "Epoch 15/20\n",
            "\u001b[1m41/41\u001b[0m \u001b[32m━━━━━━━━━━━━━━━━━━━━\u001b[0m\u001b[37m\u001b[0m \u001b[1m46s\u001b[0m 1s/step - accuracy: 0.9812 - loss: 0.0484 - val_accuracy: 0.8889 - val_loss: 0.6397\n",
            "Epoch 16/20\n",
            "\u001b[1m41/41\u001b[0m \u001b[32m━━━━━━━━━━━━━━━━━━━━\u001b[0m\u001b[37m\u001b[0m \u001b[1m84s\u001b[0m 1s/step - accuracy: 0.9916 - loss: 0.0184 - val_accuracy: 0.8925 - val_loss: 0.7852\n",
            "Epoch 17/20\n",
            "\u001b[1m41/41\u001b[0m \u001b[32m━━━━━━━━━━━━━━━━━━━━\u001b[0m\u001b[37m\u001b[0m \u001b[1m82s\u001b[0m 1s/step - accuracy: 1.0000 - loss: 0.0044 - val_accuracy: 0.9032 - val_loss: 0.9483\n",
            "Epoch 18/20\n",
            "\u001b[1m41/41\u001b[0m \u001b[32m━━━━━━━━━━━━━━━━━━━━\u001b[0m\u001b[37m\u001b[0m \u001b[1m82s\u001b[0m 1s/step - accuracy: 1.0000 - loss: 0.0029 - val_accuracy: 0.9068 - val_loss: 0.9949\n",
            "Epoch 19/20\n",
            "\u001b[1m41/41\u001b[0m \u001b[32m━━━━━━━━━━━━━━━━━━━━\u001b[0m\u001b[37m\u001b[0m \u001b[1m82s\u001b[0m 1s/step - accuracy: 1.0000 - loss: 0.0015 - val_accuracy: 0.8996 - val_loss: 1.0369\n"
          ]
        }
      ],
      "source": [
        "history = model.fit(\n",
        "    x_train, y_train,\n",
        "    epochs=20,\n",
        "    batch_size=16,\n",
        "    validation_data=(x_test, y_test),\n",
        "    callbacks=[early_stopping, checkpoint]\n",
        ")"
      ]
    },
    {
      "cell_type": "code",
      "source": [
        "# prompt: GIVE ME CODE TO ALSO GENERATE PICKLE FILE FOR THE ABOVE FITTED MODEL\n",
        "\n",
        "import pickle\n",
        "\n",
        "# Save the model to a pickle file\n",
        "with open('trained_model.pkl', 'wb') as file:\n",
        "    pickle.dump(model, file)\n"
      ],
      "metadata": {
        "id": "Cs-3svIAo0nA"
      },
      "execution_count": null,
      "outputs": []
    },
    {
      "cell_type": "code",
      "execution_count": null,
      "metadata": {
        "colab": {
          "base_uri": "https://localhost:8080/"
        },
        "id": "tPUQwVtLfWnN",
        "outputId": "7845e568-9d92-4bfb-83e3-1083b5c149da"
      },
      "outputs": [
        {
          "output_type": "stream",
          "name": "stdout",
          "text": [
            "\u001b[1m9/9\u001b[0m \u001b[32m━━━━━━━━━━━━━━━━━━━━\u001b[0m\u001b[37m\u001b[0m \u001b[1m6s\u001b[0m 604ms/step\n"
          ]
        }
      ],
      "source": [
        "y_pred = model.predict(x_test)\n",
        "y_pred_classes = np.argmax(y_pred, axis=1)\n",
        "y_true_classes = np.argmax(y_test, axis=1)"
      ]
    },
    {
      "cell_type": "code",
      "execution_count": null,
      "metadata": {
        "colab": {
          "base_uri": "https://localhost:8080/"
        },
        "id": "SGc6aBrLf3aV",
        "outputId": "1cd1ef13-9a3d-41ff-e785-bafc83be0ad9"
      },
      "outputs": [
        {
          "output_type": "stream",
          "name": "stdout",
          "text": [
            "                                                                  precision    recall  f1-score   support\n",
            "\n",
            "      ECG Images of Myocardial Infarction Patients (240x12=2880)       0.96      1.00      0.98        72\n",
            "     ECG Images of Patient that have History of MI (172x12=2064)       0.66      0.71      0.69        52\n",
            "ECG Images of Patient that have abnormal heartbeat (233x12=2796)       0.91      0.84      0.87        70\n",
            "                          Normal Person ECG Images (284x12=3408)       0.86      0.84      0.85        85\n",
            "\n",
            "                                                        accuracy                           0.86       279\n",
            "                                                       macro avg       0.85      0.85      0.85       279\n",
            "                                                    weighted avg       0.86      0.86      0.86       279\n",
            "\n",
            "[[72  0  0  0]\n",
            " [ 2 37  6  7]\n",
            " [ 1  5 59  5]\n",
            " [ 0 14  0 71]]\n"
          ]
        }
      ],
      "source": [
        "print(classification_report(y_true_classes, y_pred_classes, target_names=class_names))\n",
        "print(confusion_matrix(y_true_classes, y_pred_classes))"
      ]
    },
    {
      "cell_type": "code",
      "execution_count": null,
      "metadata": {
        "colab": {
          "base_uri": "https://localhost:8080/",
          "height": 124
        },
        "id": "e4MpZDdMgjp3",
        "outputId": "6e19f08c-f6d4-425c-9352-bc198b4bf09c"
      },
      "outputs": [
        {
          "output_type": "stream",
          "name": "stdout",
          "text": [
            "\u001b[1m1/1\u001b[0m \u001b[32m━━━━━━━━━━━━━━━━━━━━\u001b[0m\u001b[37m\u001b[0m \u001b[1m0s\u001b[0m 51ms/step\n",
            "The predicted category is: ECG Images of Patient that have History of MI (172x12=2064)\n",
            "\u001b[1m1/1\u001b[0m \u001b[32m━━━━━━━━━━━━━━━━━━━━\u001b[0m\u001b[37m\u001b[0m \u001b[1m0s\u001b[0m 63ms/step\n",
            "The predicted category is: ECG Images of Myocardial Infarction Patients (240x12=2880)\n"
          ]
        },
        {
          "output_type": "execute_result",
          "data": {
            "text/plain": [
              "'ECG Images of Myocardial Infarction Patients (240x12=2880)'"
            ],
            "application/vnd.google.colaboratory.intrinsic+json": {
              "type": "string"
            }
          },
          "metadata": {},
          "execution_count": 9
        }
      ],
      "source": [
        "from tensorflow.keras.preprocessing import image\n",
        "def predict_image(img_path, model, class_names):\n",
        "    img = image.load_img(img_path, target_size=(150, 150))\n",
        "    img_array = image.img_to_array(img)\n",
        "    img_array = np.expand_dims(img_array, axis=0) / 255.0\n",
        "\n",
        "    prediction = model.predict(img_array)\n",
        "    predicted_class = np.argmax(prediction, axis=1)[0]\n",
        "    class_name = class_names[predicted_class]\n",
        "\n",
        "    print(f'The predicted category is: {class_name}')\n",
        "    return class_name\n",
        "\n",
        "# Example usage:\n",
        "predict_image('/content/drive/MyDrive/content/data/ECG Images of Patient that have History of MI (172x12=2064)/PMI(101).jpg', model, class_names)\n",
        "predict_image('/content/drive/MyDrive/content/sampledata/testimg.jpg', model, class_names)"
      ]
    },
    {
      "cell_type": "code",
      "source": [
        "# prompt: PLOT THE TRAINING ACCURACY , VALIDATION ACCURACY AGAINST EPOCS SIMILARLY PLOR LOSS,VALIDATION LOSS WITH EPOCHS\n",
        "\n",
        "import matplotlib.pyplot as plt\n",
        "\n",
        "# Plot training & validation accuracy values\n",
        "plt.plot(history.history['accuracy'])\n",
        "plt.plot(history.history['val_accuracy'])\n",
        "plt.title('Model accuracy')\n",
        "plt.ylabel('Accuracy')\n",
        "plt.xlabel('Epoch')\n",
        "plt.legend(['Train', 'Validation'], loc='upper left')\n",
        "plt.show()\n",
        "\n",
        "# Plot training & validation loss values\n",
        "plt.plot(history.history['loss'])\n",
        "plt.plot(history.history['val_loss'])\n",
        "plt.title('Model loss')\n",
        "plt.ylabel('Loss')\n",
        "plt.xlabel('Epoch')\n",
        "plt.legend(['Train', 'Validation'], loc='upper left')\n",
        "plt.show()\n"
      ],
      "metadata": {
        "colab": {
          "base_uri": "https://localhost:8080/",
          "height": 947
        },
        "id": "QHrPVYJGWvjz",
        "outputId": "e260f2a0-7c3f-4445-b3fe-714e5ce4d30a"
      },
      "execution_count": null,
      "outputs": [
        {
          "output_type": "display_data",
          "data": {
            "text/plain": [
              "<Figure size 640x480 with 1 Axes>"
            ],
            "image/png": "[encoded data removed]"
          },
          "metadata": {}
        },
        {
          "output_type": "display_data",
          "data": {
            "text/plain": [
              "<Figure size 640x480 with 1 Axes>"
            ],
            "image/png": "[encoded data removed]"
          },
          "metadata": {}
        }
      ]
    },
    {
      "cell_type": "code",
      "execution_count": null,
      "metadata": {
        "colab": {
          "base_uri": "https://localhost:8080/"
        },
        "id": "jFWDKGXrE_Rb",
        "outputId": "7d2332ed-9153-40a0-975d-8135af4c62d7"
      },
      "outputs": [
        {
          "name": "stdout",
          "output_type": "stream",
          "text": [
            "Mounted at /content/drive\n"
          ]
        }
      ],
      "source": [
        "from google.colab import drive\n",
        "drive.mount('/content/drive')\n"
      ]
    },
    {
      "cell_type": "markdown",
      "metadata": {
        "id": "bHonUdRxY1xV"
      },
      "source": []
    },
    {
      "cell_type": "code",
      "execution_count": null,
      "metadata": {
        "colab": {
          "base_uri": "https://localhost:8080/",
          "height": 161
        },
        "id": "ha7CPfvuWeoP",
        "outputId": "764166bb-ea08-4831-fb8f-297cd8a7f76c"
      },
      "outputs": [
        {
          "ename": "NameError",
          "evalue": "name 'predict_image' is not defined",
          "output_type": "error",
          "traceback": [
            "\u001b[0;31m---------------------------------------------------------------------------\u001b[0m",
            "\u001b[0;31mNameError\u001b[0m                                 Traceback (most recent call last)",
            "\u001b[0;32m<ipython-input-3-36f25d1fe68d>\u001b[0m in \u001b[0;36m<cell line: 1>\u001b[0;34m()\u001b[0m\n\u001b[0;32m----> 1\u001b[0;31m \u001b[0mpredict_image\u001b[0m\u001b[0;34m(\u001b[0m\u001b[0;34m'/content/drive/MyDrive/content/sampledata/testimg.jpg'\u001b[0m\u001b[0;34m,\u001b[0m \u001b[0mmodel\u001b[0m\u001b[0;34m,\u001b[0m \u001b[0mclass_names\u001b[0m\u001b[0;34m)\u001b[0m\u001b[0;34m\u001b[0m\u001b[0;34m\u001b[0m\u001b[0m\n\u001b[0m",
            "\u001b[0;31mNameError\u001b[0m: name 'predict_image' is not defined"
          ]
        }
      ],
      "source": [
        "predict_image('/content/drive/MyDrive/content/sampledata/testimg.jpg', model, class_names)"
      ]
    }
  ],
  "metadata": {
    "colab": {
      "provenance": []
    },
    "kernelspec": {
      "display_name": "Python 3",
      "name": "python3"
    },
    "language_info": {
      "name": "python"
    }
  },
  "nbformat": 4,
  "nbformat_minor": 0
}